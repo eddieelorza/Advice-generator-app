{
  "cells": [
    {
      "cell_type": "markdown",
      "metadata": {
        "id": "zzGISx4fTVvN"
      },
      "source": [
        "<a href=\"https://colab.research.google.com/github/PosgradoMNA/actividades-de-aprendizaje-eddieelorza/blob/main/Modulo_2.ipynb\" target=\"_parent\"><img src=\"https://colab.research.google.com/assets/colab-badge.svg\" alt=\"Open In Colab\"/></a>"
      ]
    },
    {
      "cell_type": "markdown",
      "metadata": {
        "id": "9V2pcugPTVvS"
      },
      "source": [
        "# **MODULO 2** | Data Analysis with Python (IBM)"
      ]
    },
    {
      "cell_type": "markdown",
      "metadata": {
        "id": "hccyshNdTVvS"
      },
      "source": [
        "**EDDIE G. ELORZA RUIZ | A01793547**\n",
        "\n",
        ">Materia: Ciencia y analítica de datos (Gpo 10)\n",
        "\n",
        ">Profesor Titular: Jobish Vallikavungal\n",
        "\n",
        ">Profesor Tutor: Victoria Guerrero Orozco\n",
        "\n",
        "> Fecha: -"
      ]
    },
    {
      "cell_type": "markdown",
      "source": [
        "# Data Pre-processing\n",
        "\n",
        "También llamado como:\n",
        "\n",
        "**• Data Cleaning, Data Wrangling.**\n",
        "\n",
        "> Es el proceso de convertir o mapear datos de la forma inicial \"raw\" a otro formato, con el fin de preparar los datos para su\n",
        "posterior análisis.\n",
        "\n",
        "----\n",
        "# Dealing with missing values in Python\n",
        "**¿Que es?**\n",
        "\n",
        "Los valores faltantes ocurren cuando no se almacena ningún valor de datos para una variable (característica) en una observación.\n",
        "\n",
        "• Puede ser representado con un \"?\", \"N/A\", O o solo con una celda vacía.\n",
        "\n",
        "**EJEMPLO**:\n",
        "\n",
        "<img src=\"https://1.bp.blogspot.com/-5rVwAlpJP7E/W-Zw_odxHAI/AAAAAAAAATE/rfkZ6_zuRjstCDra_LIqR36qDyXQrf5vwCLcBGAs/s1600/2.PNG\" width=\"430\" bg-color=\"FFFFFF\" />\n",
        "\n",
        "----\n",
        "\n",
        "# ¿Como lidiar con missing data?\n",
        "\n",
        "1. Drop the missing value\n",
        "  * Drop the variable\n",
        "  * Drop the data entry\n",
        "2. Replace the missing values\n",
        "  * Replace it with an average(or similar data points)\n",
        "  * Replace it by frequency\n",
        "  * Replace it based on other functions\n",
        "3. Leave it as missing data\n",
        "\n",
        "----\n",
        "# Como eliminar datos faltantes en python\n",
        "\n",
        "\n",
        "```\n",
        "# Use dataframes.dropna()\n",
        "```\n",
        "\n",
        "\n",
        "<img src=\"https://www.sharpsightlabs.com/wp-content/uploads/2022/01/pandas-dropna-featured-image.png\" width=\"430\" bg-color=\"FFFFFF\" />\n",
        "\n",
        "**No olvides:**\n",
        "\n",
        "\n",
        "```\n",
        "df. dropna (subset=[\"price\"],axis=0) # dropna elimina los valores nulos\n",
        "\n",
        "df. dropna (subset= [\"price\"l, axis=0, inplace True) # dropna elimina los valores nulos de la columna price\n",
        "```\n",
        "----\n",
        "# Como Remplazar los datos faltantes en python\n",
        "\n",
        "```\n",
        "# Use dataframes.replace(missing_value, new_value):\n",
        "```\n",
        "\n",
        "<img src=\"https://www.sharpsightlabs.com/wp-content/uploads/2021/09/pandas-replace_FEATURED-IMAGE.png\" width=\"430\" bg-color=\"FFFFFF\" />\n",
        "\n"
      ],
      "metadata": {
        "id": "WYxH9oXWTdWF"
      }
    },
    {
      "cell_type": "markdown",
      "source": [
        "# Data Formatting en Python\n",
        "* Los datos generalmente se recopilan de diferentes lugares y se almacenan en diferentes formatos.\n",
        "* Llevar los datos a un estándar común de expresión permite a los usuarios\n",
        "hacer una comparación significativa.\n",
        "\n",
        "1. Sin formato \n",
        " * Confusas\n",
        " * Difícil de agregar\n",
        " * Difícil de comparar\n",
        "\n",
        "<img src=\"https://miro.medium.com/max/814/1*9kTJpYwFn_6RkuVSCf9MwA.png\" width=\"430\" bg-color=\"FFFFFF\" />\n",
        "\n",
        "1. Con formato \n",
        " * Más claro\n",
        " * Fácil de agregar\n",
        " * Fácil de comparar\n",
        "\n",
        " ----\n",
        "# Aplicando Calculos a una columna completa\n",
        "\n",
        " Convierta \"mpg\" a \"L/100km\" en el conjunto de datos del automóvil.\n",
        "\n",
        "\n",
        "\n",
        "```\n",
        "df[\"city-mpg\"]=235/df(\"city-mpg\"]\n",
        "\n",
        "df.rename (columns=(\"city mpg\": \"city-L/100km\"), inplace=True)\n",
        "\n",
        "```\n",
        "\n",
        "\n",
        "----\n",
        "\n",
        "# Data Types\n",
        "\n",
        "1. Para identificar Data Types:\n",
        "  * Use Dataframes.dtypes()\n",
        "\n",
        "2. Para convertir Data Types:\n",
        "  * Use Dataframes.astype()\n",
        "\n",
        "// Ejemplo convierte un Data type a Integer en la columna \"Price\"\n",
        "\n",
        "\n",
        "```\n",
        "df[\"price\"]df[\"price\"]. astype (\"int\")\n",
        "```\n",
        "\n",
        "\n",
        "\n",
        "\n",
        "\n",
        "\n"
      ],
      "metadata": {
        "id": "bBdGLdF_Yp4u"
      }
    },
    {
      "cell_type": "markdown",
      "source": [
        "# Data Normalization\n",
        "\n",
        "\n",
        "• Uniformar el valor de las características con diferentes rangos.\n",
        "\n",
        "<img src=\"https://miro.medium.com/max/1400/1*zahdB8Jm3qnguXbJqzYyhw.png\" width=\"430\" bg-color=\"FFFFFF\" />\n",
        "\n",
        "\n",
        "\n",
        "\n",
        "```\n",
        "#Simple Feature Scaling with pandas\n",
        "\n",
        "df[\"length\"] = df[\"length\"]/df [\"length\" ] .max ()\n",
        "\n",
        "#Min-Max Scaling with pandas\n",
        "\n",
        "df[\"length\"] = (df[\"length\"] - df[\"length\"].min()) / (df[\"length\"].max() - df[\"length\"].min())\n",
        "\n",
        "#Z-score Scaling with pandas\n",
        "\n",
        "df[\"length\"] = (df[\"length\"] - df[\"length\"].mean())/df[\"length\"].std()\n",
        "\n",
        "\n",
        "```\n",
        "\n"
      ],
      "metadata": {
        "id": "-hGNCtkEctPp"
      }
    },
    {
      "cell_type": "markdown",
      "source": [
        "# Binning\n",
        "\n",
        "Binning es el proceso de convertir datos continuos en datos discretos.\n",
        "\n",
        "<img src=\"https://i.ytimg.com/vi/wJgto87zEEs/maxresdefault.jpg\" width=\"430\" bg-color=\"FFFFFF\" />"
      ],
      "metadata": {
        "id": "4YpchNdifV6l"
      }
    },
    {
      "cell_type": "markdown",
      "source": [
        "# **LABORATORY**"
      ],
      "metadata": {
        "id": "K1-1BrvEgjJo"
      }
    },
    {
      "cell_type": "markdown",
      "source": [
        "<h2>What is the purpose of data wrangling?</h2>\n",
        "Data wrangling is the process of converting data from the initial format to a format that may be better for analysis.\n"
      ],
      "metadata": {
        "id": "dExjT4-Fgwc9"
      }
    },
    {
      "cell_type": "markdown",
      "source": [
        "<h3>What is the fuel consumption (L/100k) rate for the diesel car?</h3>\n"
      ],
      "metadata": {
        "id": "sdxtQH9Ug7it"
      }
    },
    {
      "cell_type": "markdown",
      "source": [
        "<h3>Import data</h3>\n",
        "<p>\n",
        "You can find the \"Automobile Dataset\" from the following link: <a href=\"https://archive.ics.uci.edu/ml/machine-learning-databases/autos/imports-85.data?utm_medium=Exinfluencer&utm_source=Exinfluencer&utm_content=000026UJ&utm_term=10006555&utm_id=NA-SkillsNetwork-Channel-SkillsNetworkCoursesIBMDeveloperSkillsNetworkDA0101ENSkillsNetwork20235326-2021-01-01\">https://archive.ics.uci.edu/ml/machine-learning-databases/autos/imports-85.data</a>. \n",
        "We will be using this dataset throughout this course.\n",
        "</p>\n"
      ],
      "metadata": {
        "id": "sqor0v63g4Ub"
      }
    },
    {
      "cell_type": "code",
      "execution_count": null,
      "metadata": {
        "id": "FWYVIw30TVvT"
      },
      "outputs": [],
      "source": [
        "#Import pandas\n",
        "#you are running the lab in your browser, so we will install the libraries using piplite\n",
        "\n",
        "import piplite\n",
        "await piplite.install(['pandas'])\n",
        "await piplite.install(['matplotlib'])\n",
        "\n",
        "import pandas as pd\n",
        "import matplotlib.pylab as plt"
      ]
    },
    {
      "cell_type": "code",
      "source": [
        "#This function will download the dataset into your browser \n",
        "from pyodide.http import pyfetch\n",
        "\n",
        "async def download(url, filename):\n",
        "    response = await pyfetch(url)\n",
        "    if response.status == 200:\n",
        "        with open(filename, \"wb\") as f:\n",
        "            f.write(await response.bytes())"
      ],
      "metadata": {
        "id": "MAL0C-gFhLJc"
      },
      "execution_count": null,
      "outputs": []
    },
    {
      "cell_type": "markdown",
      "source": [
        "<h2>Reading the dataset from the URL and adding the related headers</h2>\n"
      ],
      "metadata": {
        "id": "J-mtJmGshOxL"
      }
    },
    {
      "cell_type": "code",
      "source": [
        "#Luego, creamos una lista de Python <b>headers</b> que contiene el nombre de los encabezados.\n",
        "filename = \"https://cf-courses-data.s3.us.cloud-object-storage.appdomain.cloud/IBMDeveloperSkillsNetwork-DA0101EN-SkillsNetwork/labs/Data%20files/auto.csv\""
      ],
      "metadata": {
        "id": "NT6ieL-qhLyo"
      },
      "execution_count": null,
      "outputs": []
    },
    {
      "cell_type": "code",
      "source": [
        "#Utilice el método Pandas <b>read_csv()</b> para cargar los datos desde la dirección web. Establezca el parámetro \"nombres\" igual a los \"encabezados\" de la lista de Python.\n",
        "headers = [\"symboling\",\"normalized-losses\",\"make\",\"fuel-type\",\"aspiration\", \"num-of-doors\",\"body-style\",\n",
        "         \"drive-wheels\",\"engine-location\",\"wheel-base\", \"length\",\"width\",\"height\",\"curb-weight\",\"engine-type\",\n",
        "         \"num-of-cylinders\", \"engine-size\",\"fuel-system\",\"bore\",\"stroke\",\"compression-ratio\",\"horsepower\",\n",
        "         \"peak-rpm\",\"city-mpg\",\"highway-mpg\",\"price\"]"
      ],
      "metadata": {
        "id": "smxviunohR8A"
      },
      "execution_count": null,
      "outputs": []
    },
    {
      "cell_type": "code",
      "source": [
        "#Use el método head() para mostrar las primeras cinco filas del marco de datos.\n",
        "await download(filename, \"auto.csv\")\n",
        "filename=\"auto.csv\""
      ],
      "metadata": {
        "id": "j7OuZmEQhUg8"
      },
      "execution_count": null,
      "outputs": []
    },
    {
      "cell_type": "markdown",
      "source": [
        "<h2 id=\"identify_handle_missing_values\">Identify and handle missing values</h2>\n",
        "\n",
        "<h3 id=\"identify_missing_values\">Identify missing values</h3>\n",
        "<h4>Convert \"?\" to NaN</h4>\n",
        "In the car dataset, missing data comes with the question mark \"?\".\n",
        "We replace \"?\" with NaN (Not a Number), Python's default missing value marker for reasons of computational speed and convenience. Here we use the function: \n",
        " <pre>.replace(A, B, inplace = True) </pre>\n",
        "to replace A by B.\n"
      ],
      "metadata": {
        "id": "MJQLDPBChz0s"
      }
    },
    {
      "cell_type": "code",
      "source": [
        "import numpy as np\n",
        "\n",
        "# replace \"?\" to NaN\n",
        "df.replace(\"?\", np.nan, inplace = True)\n",
        "df.head(5)"
      ],
      "metadata": {
        "id": "PlFWiaPshwRr"
      },
      "execution_count": null,
      "outputs": []
    },
    {
      "cell_type": "markdown",
      "source": [
        "<h4>Evaluating for Missing Data</h4>\n",
        "\n",
        "The missing values are converted by default. We use the following functions to identify these missing values. There are two methods to detect missing data:\n",
        "\n",
        "<ol>\n",
        "    <li><b>.isnull()</b></li>\n",
        "    <li><b>.notnull()</b></li>\n",
        "</ol>\n",
        "The output is a boolean value indicating whether the value that is passed into the argument is in fact missing data."
      ],
      "metadata": {
        "id": "6qU-FD3th6sI"
      }
    },
    {
      "cell_type": "code",
      "source": [
        "missing_data = df.isnull()\n",
        "missing_data.head(5)"
      ],
      "metadata": {
        "id": "29w38cI4h7yo"
      },
      "execution_count": null,
      "outputs": []
    },
    {
      "cell_type": "markdown",
      "source": [
        "<h4>Count missing values in each column</h4>\n",
        "<p>\n",
        "Using a for loop in Python, we can quickly figure out the number of missing values in each column. As mentioned above, \"True\" represents a missing value and \"False\" means the value is present in the dataset.  In the body of the for loop the method \".value_counts()\" counts the number of \"True\" values. \n",
        "</p>"
      ],
      "metadata": {
        "id": "l61CpzdeiALJ"
      }
    },
    {
      "cell_type": "code",
      "source": [
        "for column in missing_data.columns.values.tolist():\n",
        "    print(column)\n",
        "    print (missing_data[column].value_counts())\n",
        "    print(\"\")  "
      ],
      "metadata": {
        "id": "ALfBrZsOh9_p"
      },
      "execution_count": null,
      "outputs": []
    },
    {
      "cell_type": "markdown",
      "source": [
        "<h3 id=\"deal_missing_values\">Deal with missing data</h3>\n",
        "<b>How to deal with missing data?</b>\n",
        "\n",
        "<ol>\n",
        "    <li>Drop data<br>\n",
        "        a. Drop the whole row<br>\n",
        "        b. Drop the whole column\n",
        "    </li>\n",
        "    <li>Replace data<br>\n",
        "        a. Replace it by mean<br>\n",
        "        b. Replace it by frequency<br>\n",
        "        c. Replace it based on other functions\n",
        "    </li>\n",
        "</ol>"
      ],
      "metadata": {
        "id": "sYHMge4DiH_p"
      }
    },
    {
      "cell_type": "markdown",
      "source": [
        "Whole columns should be dropped only if most entries in the column are empty. In our dataset, none of the columns are empty enough to drop entirely.\n",
        "We have some freedom in choosing which method to replace data; however, some methods may seem more reasonable than others. We will apply each method to many different columns:\n",
        "\n",
        "<b>Replace by mean:</b>\n",
        "\n",
        "<ul>\n",
        "    <li>\"normalized-losses\": 41 missing data, replace them with mean</li>\n",
        "    <li>\"stroke\": 4 missing data, replace them with mean</li>\n",
        "    <li>\"bore\": 4 missing data, replace them with mean</li>\n",
        "    <li>\"horsepower\": 2 missing data, replace them with mean</li>\n",
        "    <li>\"peak-rpm\": 2 missing data, replace them with mean</li>\n",
        "</ul>\n",
        "\n",
        "<b>Replace by frequency:</b>\n",
        "\n",
        "<ul>\n",
        "    <li>\"num-of-doors\": 2 missing data, replace them with \"four\". \n",
        "        <ul>\n",
        "            <li>Reason: 84% sedans is four doors. Since four doors is most frequent, it is most likely to occur</li>\n",
        "        </ul>\n",
        "    </li>\n",
        "</ul>\n",
        "\n",
        "<b>Drop the whole row:</b>\n",
        "\n",
        "<ul>\n",
        "    <li>\"price\": 4 missing data, simply delete the whole row\n",
        "        <ul>\n",
        "            <li>Reason: price is what we want to predict. Any data entry without price data cannot be used for prediction; therefore any row now without price data is not useful to us</li>\n",
        "        </ul>\n",
        "    </li>\n",
        "</ul>"
      ],
      "metadata": {
        "id": "xdu5-aQaiN0q"
      }
    },
    {
      "cell_type": "markdown",
      "source": [
        "<h4>Calculate the mean value for the \"normalized-losses\" column </h4>\n"
      ],
      "metadata": {
        "id": "OMvb0-gviX5x"
      }
    },
    {
      "cell_type": "code",
      "source": [
        "avg_norm_loss = df[\"normalized-losses\"].astype(\"float\").mean(axis=0)\n",
        "print(\"Average of normalized-losses:\", avg_norm_loss)"
      ],
      "metadata": {
        "id": "SCOplNzWh92P"
      },
      "execution_count": null,
      "outputs": []
    },
    {
      "cell_type": "markdown",
      "source": [
        "<h4>Replace \"NaN\" with mean value in \"normalized-losses\" column</h4>\n"
      ],
      "metadata": {
        "id": "A4NLv1-niYpN"
      }
    },
    {
      "cell_type": "code",
      "source": [
        "df[\"normalized-losses\"].replace(np.nan, avg_norm_loss, inplace=True)"
      ],
      "metadata": {
        "id": "2-EPzLL9ibOR"
      },
      "execution_count": null,
      "outputs": []
    },
    {
      "cell_type": "markdown",
      "source": [
        "<h4>Calculate the mean value for the \"bore\" column</h4>\n"
      ],
      "metadata": {
        "id": "8RCw2Bcdie1r"
      }
    },
    {
      "cell_type": "code",
      "source": [
        "avg_bore=df['bore'].astype('float').mean(axis=0)\n",
        "print(\"Average of bore:\", avg_bore)"
      ],
      "metadata": {
        "id": "BEiYhDFBifp1"
      },
      "execution_count": null,
      "outputs": []
    },
    {
      "cell_type": "markdown",
      "source": [
        "<h4>Replace \"NaN\" with the mean value in the \"bore\" column</h4>\n"
      ],
      "metadata": {
        "id": "OVne2xCuil38"
      }
    },
    {
      "cell_type": "code",
      "source": [
        "df[\"bore\"].replace(np.nan, avg_bore, inplace=True)"
      ],
      "metadata": {
        "id": "lvbhJzDeij2J"
      },
      "execution_count": null,
      "outputs": []
    },
    {
      "cell_type": "markdown",
      "source": [
        "<div class=\"alert alert-danger alertdanger\" style=\"margin-top: 20px\">\n",
        "<h1> Question  #1: </h1>\n",
        "\n",
        "<b>Based on the example above, replace NaN in \"stroke\" column with the mean value.</b>\n",
        "\n",
        "</div>"
      ],
      "metadata": {
        "id": "UVtxa78Qiowl"
      }
    },
    {
      "cell_type": "code",
      "source": [
        "avg_stroke = df[\"stroke\"].astype(\"float\").mean(axis = 0)\n",
        "print(\"Average of stroke:\", avg_stroke)\n",
        "\n",
        "df[\"stroke\"].replace(np.nan, avg_stroke, inplace = True)"
      ],
      "metadata": {
        "id": "tHD3KgL1irBS"
      },
      "execution_count": null,
      "outputs": []
    },
    {
      "cell_type": "markdown",
      "source": [
        "<div class=\"alert alert-danger alertdanger\" style=\"margin-top: 20px\">\n",
        "<h1> Question  #2: </h1>\n",
        "\n",
        "<b>According to the example above, transform mpg to L/100km in the column of \"highway-mpg\" and change the name of column to \"highway-L/100km\".</b>\n",
        "\n",
        "</div>\n"
      ],
      "metadata": {
        "id": "icm_fnAAi4pa"
      }
    },
    {
      "cell_type": "code",
      "source": [
        "df[\"highway-mpg\"] = 235/df[\"highway-mpg\"]\n",
        "\n",
        "df.rename(columns={'highway-mpg':'highway-L/100km'}, inplace=True)\n",
        "\n",
        "df.head()"
      ],
      "metadata": {
        "id": "I5o0oqQNi54q"
      },
      "execution_count": null,
      "outputs": []
    },
    {
      "cell_type": "markdown",
      "source": [
        "<div class=\"alert alert-danger alertdanger\" style=\"margin-top: 20px\">\n",
        "<h1> Question #3: </h1>\n",
        "\n",
        "<b>According to the example above, normalize the column \"height\".</b>\n",
        "\n",
        "</div>\n"
      ],
      "metadata": {
        "id": "olRQZXKyi_AA"
      }
    },
    {
      "cell_type": "code",
      "source": [
        "df['height'] = df['height']/df['height'].max() \n",
        "\n",
        "# show the scaled columns\n",
        "df[[\"length\",\"width\",\"height\"]].head()"
      ],
      "metadata": {
        "id": "dx1_9d4UjFTZ"
      },
      "execution_count": null,
      "outputs": []
    },
    {
      "cell_type": "markdown",
      "source": [
        "<div class=\"alert alert-danger alertdanger\" style=\"margin-top: 20px\">\n",
        "<h1> Question  #4: </h1>\n",
        "\n",
        "<b>Similar to before, create an indicator variable for the column \"aspiration\"</b>\n",
        "\n",
        "</div>"
      ],
      "metadata": {
        "id": "CC9AUeykjHyO"
      }
    },
    {
      "cell_type": "code",
      "source": [
        "# get indicator variables of aspiration and assign it to data frame \"dummy_variable_2\"\n",
        "dummy_variable_2 = pd.get_dummies(df['aspiration'])\n",
        "\n",
        "# change column names for clarity\n",
        "dummy_variable_2.rename(columns={'std':'aspiration-std', 'turbo': 'aspiration-turbo'}, inplace=True)\n",
        "\n",
        "# show first 5 instances of data frame \"dummy_variable_1\"\n",
        "dummy_variable_2.head()"
      ],
      "metadata": {
        "id": "zhuA9alWjOAK"
      },
      "execution_count": null,
      "outputs": []
    },
    {
      "cell_type": "markdown",
      "source": [
        " <div class=\"alert alert-danger alertdanger\" style=\"margin-top: 20px\">\n",
        "<h1> Question  #5: </h1>\n",
        "\n",
        "<b>Merge the new dataframe to the original dataframe, then drop the column 'aspiration'.</b>\n",
        "\n",
        "</div>\n"
      ],
      "metadata": {
        "id": "bZyev3lbjWA4"
      }
    },
    {
      "cell_type": "code",
      "source": [
        "Click here for the solution\n",
        "# merge the new dataframe to the original datafram\n",
        "df = pd.concat([df, dummy_variable_2], axis=1)\n",
        "\n",
        "# drop original column \"aspiration\" from \"df\"\n",
        "df.drop('aspiration', axis = 1, inplace=True)"
      ],
      "metadata": {
        "id": "BTGGQ4jRjY3r"
      },
      "execution_count": null,
      "outputs": []
    }
  ],
  "metadata": {
    "kernelspec": {
      "display_name": "Python 3.10.2 64-bit",
      "language": "python",
      "name": "python3"
    },
    "language_info": {
      "name": "python",
      "version": "3.10.2"
    },
    "orig_nbformat": 4,
    "vscode": {
      "interpreter": {
        "hash": "aee8b7b246df8f9039afb4144a1f6fd8d2ca17a180786b69acc140d282b71a49"
      }
    },
    "colab": {
      "provenance": []
    }
  },
  "nbformat": 4,
  "nbformat_minor": 0
}